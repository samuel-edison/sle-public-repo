{
 "cells": [
  {
   "cell_type": "markdown",
   "id": "c4b9929e-7f95-4f62-a586-2bf9661a73d2",
   "metadata": {},
   "source": [
    "# Data Science Tools and Ecosystem"
   ]
  },
  {
   "cell_type": "markdown",
   "id": "2a12b15c-852d-4e05-b14c-a7487b2a47b4",
   "metadata": {},
   "source": [
    "In this notebook, Data Science Tools and Ecosystem are summarized."
   ]
  },
  {
   "cell_type": "markdown",
   "id": "8ddb0074-0727-48ea-8ce0-67b11394c14a",
   "metadata": {},
   "source": [
    "**Objectives:**\n",
    "- List popular language for Data Science\n",
    "- List common libraries for Data Science\n",
    "- List common tools for Data Science"
   ]
  },
  {
   "cell_type": "markdown",
   "id": "1a966fde-fae8-4620-a3e1-c0c7b6335007",
   "metadata": {},
   "source": [
    "Some of the popular langauges that Data Scientists use are:\n",
    "1. R\n",
    "2. Python\n",
    "3. SQL"
   ]
  },
  {
   "cell_type": "markdown",
   "id": "9a8df5eb-a91a-4380-9586-380f26914dbd",
   "metadata": {},
   "source": [
    "Some of the commonly used libraries by Data Scientists include:\n",
    "1. Pandas\n",
    "2. NumPy\n",
    "3. sci-kit learn"
   ]
  },
  {
   "cell_type": "markdown",
   "id": "b16013b7-76d4-45c1-9c05-8159363ba0c0",
   "metadata": {},
   "source": [
    "| Data Science Tools |\n",
    "| ------------------ |\n",
    "| Jupyter            |\n",
    "| R Studio           |\n",
    "| VS Code            | \n"
   ]
  },
  {
   "cell_type": "markdown",
   "id": "56bc8483-843d-47b5-b0cd-05ab029016ac",
   "metadata": {},
   "source": [
    "### Below are a few examples of evaluating arithmetic expressions in Python"
   ]
  },
  {
   "cell_type": "code",
   "execution_count": 1,
   "id": "bd8ff13c-2f25-4e19-bb9b-70553df70f9c",
   "metadata": {},
   "outputs": [
    {
     "data": {
      "text/plain": [
       "17"
      ]
     },
     "execution_count": 1,
     "metadata": {},
     "output_type": "execute_result"
    }
   ],
   "source": [
    "# This is a simple arithmetic expression to multiply then add integers\n",
    "(3*4)+5"
   ]
  },
  {
   "cell_type": "code",
   "execution_count": 2,
   "id": "5a067253-0bf3-4968-bb43-c91ad7fa2d97",
   "metadata": {},
   "outputs": [
    {
     "data": {
      "text/plain": [
       "3.3333333333333335"
      ]
     },
     "execution_count": 2,
     "metadata": {},
     "output_type": "execute_result"
    }
   ],
   "source": [
    "# This will convert 200 minutes to hours by dividing by 60\n",
    "200 / 60"
   ]
  },
  {
   "cell_type": "markdown",
   "id": "abb06399-5b07-4671-bd8f-accbf7479398",
   "metadata": {},
   "source": [
    "## Author\n",
    "Sam E."
   ]
  }
 ],
 "metadata": {
  "kernelspec": {
   "display_name": "Python 3 (ipykernel)",
   "language": "python",
   "name": "python3"
  },
  "language_info": {
   "codemirror_mode": {
    "name": "ipython",
    "version": 3
   },
   "file_extension": ".py",
   "mimetype": "text/x-python",
   "name": "python",
   "nbconvert_exporter": "python",
   "pygments_lexer": "ipython3",
   "version": "3.11.3"
  }
 },
 "nbformat": 4,
 "nbformat_minor": 5
}
